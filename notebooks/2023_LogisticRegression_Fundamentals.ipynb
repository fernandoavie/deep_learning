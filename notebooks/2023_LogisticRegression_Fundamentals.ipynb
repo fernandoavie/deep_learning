{
  "cells": [
    {
      "cell_type": "code",
      "execution_count": 54,
      "metadata": {},
      "outputs": [],
      "source": [
        "#!pip install tensorflow\n",
        "#!pip install mlxtend"
      ]
    },
    {
      "cell_type": "code",
      "execution_count": 55,
      "metadata": {
        "id": "eEqf_oBfTAT_"
      },
      "outputs": [],
      "source": [
        "import matplotlib.pyplot as plt\n",
        "import numpy as np\n",
        "import pandas as pd\n",
        "import tensorflow as tf\n",
        "from sklearn import datasets\n",
        "from tensorflow import keras\n",
        "from tensorflow.keras import layers\n",
        "from tensorflow.python.framework import ops\n",
        "from mlxtend.plotting import plot_decision_regions\n",
        "ops.reset_default_graph()"
      ]
    },
    {
      "cell_type": "markdown",
      "metadata": {
        "id": "yogUlyuMFHSS"
      },
      "source": [
        "# LOGISTIC REGRESSION\n",
        "\n",
        "In this notebook we will apply logistic regression to a linearly separable dataset of two classes.\n",
        "\n",
        "The notebook will help us to better understand logistic regression and why it can be perceived as a baby neural net.\n",
        "\n",
        "The most important part of this notebook is to identify the ingredientes of logistic regression as well as to understand the mechanism logistic regression is using to classify the points."
      ]
    },
    {
      "cell_type": "markdown",
      "metadata": {
        "id": "EgTMbeA1TV8b"
      },
      "source": [
        "## 1. Artificially create a linearly separable dataset with two classes."
      ]
    },
    {
      "cell_type": "code",
      "execution_count": 56,
      "metadata": {
        "colab": {
          "base_uri": "https://localhost:8080/",
          "height": 282
        },
        "id": "fRbpiXEbVFEi",
        "outputId": "8d9851df-d939-483e-a349-a48ccf4e90ee"
      },
      "outputs": [
        {
          "data": {
            "text/plain": [
              "<matplotlib.collections.PathCollection at 0x1be8107b990>"
            ]
          },
          "execution_count": 56,
          "metadata": {},
          "output_type": "execute_result"
        },
        {
          "data": {
            "image/png": "[encoded data removed]",
            "text/plain": [
              "<Figure size 640x480 with 1 Axes>"
            ]
          },
          "metadata": {},
          "output_type": "display_data"
        }
      ],
      "source": [
        "# We randomly generate datapoints from two different gaussians.\n",
        "X, y = datasets.make_blobs(n_samples=100, centers=2, n_features=2, center_box=(0, 50))\n",
        "plt.scatter(X[:, 0], X[:, 1], c=y, s=30, cmap=plt.cm.Paired)"
      ]
    },
    {
      "cell_type": "markdown",
      "metadata": {
        "id": "Lc7DF3BSWO6K"
      },
      "source": [
        "## 2. Create the Logistic Regression Model Structure.\n",
        "\n",
        "We will use keras to create our Logistic Regresson Model. Specifically we will use the class Sequential, where we can create a model layer by layer -- this would be specially interesting where working with neural nets.\n",
        "\n",
        "There are different types of layers. We will use two in particular, the layer Input (just for holding our input vectors) and the Layer \"Dense\". A \"Dense layer\" indicates that the units of the layer are fully connected with the input layer units https://keras.io/api/layers/core_layers/dense/\n",
        "\n",
        "For further information please have a look into the keras documentation\n",
        "\n",
        "https://keras.io/api/layers/"
      ]
    },
    {
      "cell_type": "code",
      "execution_count": 57,
      "metadata": {
        "id": "9GWGu6J9V8NO"
      },
      "outputs": [],
      "source": [
        "binary_logistic_regressor = tf.keras.Sequential([\n",
        "    layers.Input(shape=(2, ), name=\"input\"), \n",
        "    layers.Dense(units=4, activation=\"sigmoid\"),                                       \n",
        "    layers.Dense(units=2, activation=\"softmax\", name=\"output\")\n",
        "])"
      ]
    },
    {
      "cell_type": "code",
      "execution_count": 58,
      "metadata": {
        "colab": {
          "base_uri": "https://localhost:8080/"
        },
        "id": "4OyK9-X5nqRe",
        "outputId": "6b928640-a927-48cb-dbc6-24f7d6a42563"
      },
      "outputs": [
        {
          "data": {
            "text/html": [
              "<pre style=\"white-space:pre;overflow-x:auto;line-height:normal;font-family:Menlo,'DejaVu Sans Mono',consolas,'Courier New',monospace\"><span style=\"font-weight: bold\">Model: \"sequential_2\"</span>\n",
              "</pre>\n"
            ],
            "text/plain": [
              "\u001b[1mModel: \"sequential_2\"\u001b[0m\n"
            ]
          },
          "metadata": {},
          "output_type": "display_data"
        },
        {
          "data": {
            "text/html": [
              "<pre style=\"white-space:pre;overflow-x:auto;line-height:normal;font-family:Menlo,'DejaVu Sans Mono',consolas,'Courier New',monospace\">┏━━━━━━━━━━━━━━━━━━━━━━━━━━━━━━━━━┳━━━━━━━━━━━━━━━━━━━━━━━━┳━━━━━━━━━━━━━━━┓\n",
              "┃<span style=\"font-weight: bold\"> Layer (type)                    </span>┃<span style=\"font-weight: bold\"> Output Shape           </span>┃<span style=\"font-weight: bold\">       Param # </span>┃\n",
              "┡━━━━━━━━━━━━━━━━━━━━━━━━━━━━━━━━━╇━━━━━━━━━━━━━━━━━━━━━━━━╇━━━━━━━━━━━━━━━┩\n",
              "│ dense_2 (<span style=\"color: #0087ff; text-decoration-color: #0087ff\">Dense</span>)                 │ (<span style=\"color: #00d7ff; text-decoration-color: #00d7ff\">None</span>, <span style=\"color: #00af00; text-decoration-color: #00af00\">4</span>)              │            <span style=\"color: #00af00; text-decoration-color: #00af00\">12</span> │\n",
              "├─────────────────────────────────┼────────────────────────┼───────────────┤\n",
              "│ output (<span style=\"color: #0087ff; text-decoration-color: #0087ff\">Dense</span>)                  │ (<span style=\"color: #00d7ff; text-decoration-color: #00d7ff\">None</span>, <span style=\"color: #00af00; text-decoration-color: #00af00\">2</span>)              │            <span style=\"color: #00af00; text-decoration-color: #00af00\">10</span> │\n",
              "└─────────────────────────────────┴────────────────────────┴───────────────┘\n",
              "</pre>\n"
            ],
            "text/plain": [
              "┏━━━━━━━━━━━━━━━━━━━━━━━━━━━━━━━━━┳━━━━━━━━━━━━━━━━━━━━━━━━┳━━━━━━━━━━━━━━━┓\n",
              "┃\u001b[1m \u001b[0m\u001b[1mLayer (type)                   \u001b[0m\u001b[1m \u001b[0m┃\u001b[1m \u001b[0m\u001b[1mOutput Shape          \u001b[0m\u001b[1m \u001b[0m┃\u001b[1m \u001b[0m\u001b[1m      Param #\u001b[0m\u001b[1m \u001b[0m┃\n",
              "┡━━━━━━━━━━━━━━━━━━━━━━━━━━━━━━━━━╇━━━━━━━━━━━━━━━━━━━━━━━━╇━━━━━━━━━━━━━━━┩\n",
              "│ dense_2 (\u001b[38;5;33mDense\u001b[0m)                 │ (\u001b[38;5;45mNone\u001b[0m, \u001b[38;5;34m4\u001b[0m)              │            \u001b[38;5;34m12\u001b[0m │\n",
              "├─────────────────────────────────┼────────────────────────┼───────────────┤\n",
              "│ output (\u001b[38;5;33mDense\u001b[0m)                  │ (\u001b[38;5;45mNone\u001b[0m, \u001b[38;5;34m2\u001b[0m)              │            \u001b[38;5;34m10\u001b[0m │\n",
              "└─────────────────────────────────┴────────────────────────┴───────────────┘\n"
            ]
          },
          "metadata": {},
          "output_type": "display_data"
        },
        {
          "data": {
            "text/html": [
              "<pre style=\"white-space:pre;overflow-x:auto;line-height:normal;font-family:Menlo,'DejaVu Sans Mono',consolas,'Courier New',monospace\"><span style=\"font-weight: bold\"> Total params: </span><span style=\"color: #00af00; text-decoration-color: #00af00\">22</span> (88.00 B)\n",
              "</pre>\n"
            ],
            "text/plain": [
              "\u001b[1m Total params: \u001b[0m\u001b[38;5;34m22\u001b[0m (88.00 B)\n"
            ]
          },
          "metadata": {},
          "output_type": "display_data"
        },
        {
          "data": {
            "text/html": [
              "<pre style=\"white-space:pre;overflow-x:auto;line-height:normal;font-family:Menlo,'DejaVu Sans Mono',consolas,'Courier New',monospace\"><span style=\"font-weight: bold\"> Trainable params: </span><span style=\"color: #00af00; text-decoration-color: #00af00\">22</span> (88.00 B)\n",
              "</pre>\n"
            ],
            "text/plain": [
              "\u001b[1m Trainable params: \u001b[0m\u001b[38;5;34m22\u001b[0m (88.00 B)\n"
            ]
          },
          "metadata": {},
          "output_type": "display_data"
        },
        {
          "data": {
            "text/html": [
              "<pre style=\"white-space:pre;overflow-x:auto;line-height:normal;font-family:Menlo,'DejaVu Sans Mono',consolas,'Courier New',monospace\"><span style=\"font-weight: bold\"> Non-trainable params: </span><span style=\"color: #00af00; text-decoration-color: #00af00\">0</span> (0.00 B)\n",
              "</pre>\n"
            ],
            "text/plain": [
              "\u001b[1m Non-trainable params: \u001b[0m\u001b[38;5;34m0\u001b[0m (0.00 B)\n"
            ]
          },
          "metadata": {},
          "output_type": "display_data"
        }
      ],
      "source": [
        "# we can use the summary function to inspect the layers of our model \n",
        "binary_logistic_regressor.summary()"
      ]
    },
    {
      "cell_type": "code",
      "execution_count": 59,
      "metadata": {
        "colab": {
          "base_uri": "https://localhost:8080/",
          "height": 201
        },
        "id": "_rpOYCmBoOyH",
        "outputId": "b65deab2-5054-45a1-a975-4b4d82230b78"
      },
      "outputs": [
        {
          "data": {
            "image/png": "[encoded data removed]",
            "text/plain": [
              "<IPython.core.display.Image object>"
            ]
          },
          "execution_count": 59,
          "metadata": {},
          "output_type": "execute_result"
        }
      ],
      "source": [
        "tf.keras.utils.plot_model(binary_logistic_regressor, show_layer_names=True, show_shapes=True)"
      ]
    },
    {
      "cell_type": "markdown",
      "metadata": {
        "id": "BiPRyHyRKnfi"
      },
      "source": [
        "## 3. Compiling the model\n",
        "\n",
        "Now that we have an structure we need to complete the model. So far, we have how the inputs and outputs will be and how they relate (through the mapping function/structure that we create).\n",
        "\n",
        "Now we need the cost function to measure how well or bad we are doing the things and the learning procedure. We do this through the 'compile' function.\n",
        "\n",
        "Also we include the kind of metric we want to assess. In this case \"accuracy\"\n"
      ]
    },
    {
      "cell_type": "code",
      "execution_count": 60,
      "metadata": {
        "id": "3KL9S3NmYDqQ"
      },
      "outputs": [],
      "source": [
        "binary_logistic_regressor.compile(optimizer='sgd', \n",
        "                                  loss= tf.keras.losses.SparseCategoricalCrossentropy(), \n",
        "                                  metrics=['accuracy'])"
      ]
    },
    {
      "cell_type": "markdown",
      "metadata": {
        "id": "LN1JDfVGL-CZ"
      },
      "source": [
        "## 4. Training the model\n",
        "\n",
        "The infamous fit! This basically will run our learning procedure (which it is iterative) over our training dataset, and evaluate over the validation one. "
      ]
    },
    {
      "cell_type": "code",
      "execution_count": 61,
      "metadata": {
        "id": "EeAZb8jjbRK8"
      },
      "outputs": [],
      "source": [
        "history = binary_logistic_regressor.fit(X, y, epochs=100, verbose=0, validation_split = 0.2)"
      ]
    },
    {
      "cell_type": "markdown",
      "metadata": {
        "id": "9fFqMmpyFOmF"
      },
      "source": [
        "## 5. See how it was the run..."
      ]
    },
    {
      "cell_type": "code",
      "execution_count": 62,
      "metadata": {
        "colab": {
          "base_uri": "https://localhost:8080/",
          "height": 424
        },
        "id": "Bnwza1oacNFS",
        "outputId": "1ec7ae14-8272-472b-8fa4-17f39bd9a1f4"
      },
      "outputs": [
        {
          "data": {
            "text/html": [
              "<div>\n",
              "<style scoped>\n",
              "    .dataframe tbody tr th:only-of-type {\n",
              "        vertical-align: middle;\n",
              "    }\n",
              "\n",
              "    .dataframe tbody tr th {\n",
              "        vertical-align: top;\n",
              "    }\n",
              "\n",
              "    .dataframe thead th {\n",
              "        text-align: right;\n",
              "    }\n",
              "</style>\n",
              "<table border=\"1\" class=\"dataframe\">\n",
              "  <thead>\n",
              "    <tr style=\"text-align: right;\">\n",
              "      <th></th>\n",
              "      <th>accuracy</th>\n",
              "      <th>loss</th>\n",
              "      <th>val_accuracy</th>\n",
              "      <th>val_loss</th>\n",
              "      <th>epoch</th>\n",
              "    </tr>\n",
              "  </thead>\n",
              "  <tbody>\n",
              "    <tr>\n",
              "      <th>0</th>\n",
              "      <td>0.4875</td>\n",
              "      <td>0.605438</td>\n",
              "      <td>0.55</td>\n",
              "      <td>0.558478</td>\n",
              "      <td>0</td>\n",
              "    </tr>\n",
              "    <tr>\n",
              "      <th>1</th>\n",
              "      <td>0.4875</td>\n",
              "      <td>0.599752</td>\n",
              "      <td>0.55</td>\n",
              "      <td>0.553699</td>\n",
              "      <td>1</td>\n",
              "    </tr>\n",
              "    <tr>\n",
              "      <th>2</th>\n",
              "      <td>0.4875</td>\n",
              "      <td>0.593677</td>\n",
              "      <td>0.55</td>\n",
              "      <td>0.549508</td>\n",
              "      <td>2</td>\n",
              "    </tr>\n",
              "    <tr>\n",
              "      <th>3</th>\n",
              "      <td>0.4875</td>\n",
              "      <td>0.588542</td>\n",
              "      <td>0.55</td>\n",
              "      <td>0.545714</td>\n",
              "      <td>3</td>\n",
              "    </tr>\n",
              "    <tr>\n",
              "      <th>4</th>\n",
              "      <td>0.4875</td>\n",
              "      <td>0.583707</td>\n",
              "      <td>0.55</td>\n",
              "      <td>0.541432</td>\n",
              "      <td>4</td>\n",
              "    </tr>\n",
              "    <tr>\n",
              "      <th>...</th>\n",
              "      <td>...</td>\n",
              "      <td>...</td>\n",
              "      <td>...</td>\n",
              "      <td>...</td>\n",
              "      <td>...</td>\n",
              "    </tr>\n",
              "    <tr>\n",
              "      <th>95</th>\n",
              "      <td>1.0000</td>\n",
              "      <td>0.379307</td>\n",
              "      <td>1.00</td>\n",
              "      <td>0.371179</td>\n",
              "      <td>95</td>\n",
              "    </tr>\n",
              "    <tr>\n",
              "      <th>96</th>\n",
              "      <td>1.0000</td>\n",
              "      <td>0.377863</td>\n",
              "      <td>1.00</td>\n",
              "      <td>0.369890</td>\n",
              "      <td>96</td>\n",
              "    </tr>\n",
              "    <tr>\n",
              "      <th>97</th>\n",
              "      <td>1.0000</td>\n",
              "      <td>0.376567</td>\n",
              "      <td>1.00</td>\n",
              "      <td>0.368713</td>\n",
              "      <td>97</td>\n",
              "    </tr>\n",
              "    <tr>\n",
              "      <th>98</th>\n",
              "      <td>1.0000</td>\n",
              "      <td>0.375187</td>\n",
              "      <td>1.00</td>\n",
              "      <td>0.367477</td>\n",
              "      <td>98</td>\n",
              "    </tr>\n",
              "    <tr>\n",
              "      <th>99</th>\n",
              "      <td>1.0000</td>\n",
              "      <td>0.373945</td>\n",
              "      <td>1.00</td>\n",
              "      <td>0.366312</td>\n",
              "      <td>99</td>\n",
              "    </tr>\n",
              "  </tbody>\n",
              "</table>\n",
              "<p>100 rows × 5 columns</p>\n",
              "</div>"
            ],
            "text/plain": [
              "    accuracy      loss  val_accuracy  val_loss  epoch\n",
              "0     0.4875  0.605438          0.55  0.558478      0\n",
              "1     0.4875  0.599752          0.55  0.553699      1\n",
              "2     0.4875  0.593677          0.55  0.549508      2\n",
              "3     0.4875  0.588542          0.55  0.545714      3\n",
              "4     0.4875  0.583707          0.55  0.541432      4\n",
              "..       ...       ...           ...       ...    ...\n",
              "95    1.0000  0.379307          1.00  0.371179     95\n",
              "96    1.0000  0.377863          1.00  0.369890     96\n",
              "97    1.0000  0.376567          1.00  0.368713     97\n",
              "98    1.0000  0.375187          1.00  0.367477     98\n",
              "99    1.0000  0.373945          1.00  0.366312     99\n",
              "\n",
              "[100 rows x 5 columns]"
            ]
          },
          "execution_count": 62,
          "metadata": {},
          "output_type": "execute_result"
        }
      ],
      "source": [
        "hist = pd.DataFrame(history.history)\n",
        "hist['epoch'] = history.epoch\n",
        "hist"
      ]
    },
    {
      "cell_type": "code",
      "execution_count": 63,
      "metadata": {
        "colab": {
          "base_uri": "https://localhost:8080/",
          "height": 283
        },
        "id": "ZZt-SyYdchXM",
        "outputId": "ee4a4950-2a26-449c-8160-7f00e8d81f3d"
      },
      "outputs": [
        {
          "data": {
            "image/png": "[encoded data removed]",
            "text/plain": [
              "<Figure size 640x480 with 1 Axes>"
            ]
          },
          "metadata": {},
          "output_type": "display_data"
        }
      ],
      "source": [
        "def plot_loss(history):\n",
        "  plt.plot(history.history['loss'], label='loss')\n",
        "  plt.plot(history.history['val_loss'], label='val_loss')\n",
        "  plt.ylim([0, 1])\n",
        "  plt.xlabel('Epoch')\n",
        "  plt.ylabel('Loss')\n",
        "  plt.legend()\n",
        "  plt.grid(True)\n",
        "plot_loss(history)"
      ]
    },
    {
      "cell_type": "markdown",
      "metadata": {
        "id": "--tdbmPdRHIu"
      },
      "source": [
        "## 6. Dig a litte bit further into the model and plot the boundary"
      ]
    },
    {
      "cell_type": "code",
      "execution_count": 64,
      "metadata": {
        "colab": {
          "base_uri": "https://localhost:8080/"
        },
        "id": "qElQTxwpdbOS",
        "outputId": "ef886f5c-db3b-464a-fffd-98ac6bab14a8"
      },
      "outputs": [
        {
          "data": {
            "text/plain": [
              "[<KerasVariable shape=(2, 4), dtype=float32, path=sequential_2/dense_2/kernel>,\n",
              " <KerasVariable shape=(4,), dtype=float32, path=sequential_2/dense_2/bias>,\n",
              " <KerasVariable shape=(4, 2), dtype=float32, path=sequential_2/output/kernel>,\n",
              " <KerasVariable shape=(2,), dtype=float32, path=sequential_2/output/bias>]"
            ]
          },
          "execution_count": 64,
          "metadata": {},
          "output_type": "execute_result"
        }
      ],
      "source": [
        "binary_logistic_regressor.trainable_variables\n"
      ]
    },
    {
      "cell_type": "code",
      "execution_count": 65,
      "metadata": {
        "colab": {
          "base_uri": "https://localhost:8080/"
        },
        "id": "iO2S0Bn0j2kq",
        "outputId": "a604f8f0-ca1d-480c-9411-725f5f755a67"
      },
      "outputs": [
        {
          "name": "stdout",
          "output_type": "stream",
          "text": [
            "tf.Tensor([-0.23231843 -0.9488025  -0.82735133  0.17078096], shape=(4,), dtype=float32)\n",
            "tf.Tensor([ 0.32359722  0.01434207 -0.08806944  0.4987091 ], shape=(4,), dtype=float32)\n",
            "tf.Tensor(-0.0003004607, shape=(), dtype=float32)\n"
          ]
        }
      ],
      "source": [
        "w1 = binary_logistic_regressor.trainable_variables[0][0]\n",
        "print(w1)\n",
        "w2 = binary_logistic_regressor.trainable_variables[0][1]\n",
        "print(w2)\n",
        "b = binary_logistic_regressor.trainable_variables[1][0]\n",
        "print(b)\n",
        "\n",
        "weights = binary_logistic_regressor.get_weights()[0]  # Weight matrix of shape (2, 4)\n",
        "bias = binary_logistic_regressor.get_weights()[1]     # Bias vector of shape (4,)\n"
      ]
    },
    {
      "cell_type": "code",
      "execution_count": 66,
      "metadata": {
        "colab": {
          "base_uri": "https://localhost:8080/",
          "height": 282
        },
        "id": "LiE9fQhjfW4T",
        "outputId": "e3dd6efd-bf5d-4e9c-b26e-7aa282546347"
      },
      "outputs": [
        {
          "data": {
            "image/png": "[encoded data removed]",
            "text/plain": [
              "<Figure size 640x480 with 1 Axes>"
            ]
          },
          "metadata": {},
          "output_type": "display_data"
        }
      ],
      "source": [
        "plot = plt.scatter(X[:, 0], X[:, 1], c=y, s=30, cmap=plt.cm.Paired)\n",
        "ax = plot.axes\n",
        "x_values = np.linspace(np.min(X[:, 0]), np.max(X[:, 0]), 100)\n",
        "y_values = (-weights[0, 0] * x_values - bias[0]) / weights[1, 0]\n",
        "plt.plot(x_values, y_values, label='Decision Boundary', color='r')\n",
        "\n",
        "# Plot the data points\n",
        "plt.scatter(X[:, 0], X[:, 1], c=y, cmap=plt.cm.Paired)\n",
        "plt.xlabel('Feature 1')\n",
        "plt.ylabel('Feature 2')\n",
        "plt.title('Decision Boundary')\n",
        "plt.legend()\n",
        "plt.show()\n",
        "#x_boundary = np.linspace(ax.get_xlim()[0], ax.get_xlim()[1])\n",
        "#y_boundary = -w1/w2*x_boundary - b/w2\n",
        "# plt.ylim(ax.get_ylim()[0], ax.get_ylim()[1])\n",
        "# plt.xlim(ax.get_xlim()[0], ax.get_xlim()[1])\n",
        "# plt.plot(x_boundary, y_boundary, '-r')"
      ]
    },
    {
      "cell_type": "code",
      "execution_count": 67,
      "metadata": {
        "colab": {
          "base_uri": "https://localhost:8080/",
          "height": 265
        },
        "id": "Pxxr0lvrsWz4",
        "outputId": "5463ab1a-471d-4a59-f9ff-f07b2e82553b"
      },
      "outputs": [],
      "source": [
        "# # Just another way to plot the boundary, this time using contour\n",
        "\n",
        "# plt.scatter(X[:, 0], X[:, 1], c=y, s=30, cmap=plt.cm.Paired)\n",
        "\n",
        "# # plot the decision function\n",
        "# ax = plt.gca()\n",
        "# xlim = ax.get_xlim()\n",
        "# ylim = ax.get_ylim()\n",
        "\n",
        "# # create grid to evaluate model\n",
        "# xx = np.linspace(xlim[0], xlim[1], 30)\n",
        "# yy = np.linspace(ylim[0], ylim[1], 30)\n",
        "# YY, XX = np.meshgrid(yy, xx)\n",
        "# xy = np.vstack([XX.ravel(), YY.ravel()]).T\n",
        "# Z = (w1*XX + w2*YY + b)\n",
        "# # plot decision boundary and margins\n",
        "# ax.contour(XX, YY, Z, colors='k', levels=[0], linestyles='-')\n",
        "# plt.show()"
      ]
    },
    {
      "cell_type": "code",
      "execution_count": 68,
      "metadata": {
        "colab": {
          "base_uri": "https://localhost:8080/",
          "height": 265
        },
        "id": "CMvy5rkDkkn3",
        "outputId": "42525ad8-086f-47cf-bce7-e4b0bf450a10"
      },
      "outputs": [],
      "source": [
        "# ax = plt.axes(projection='3d')\n",
        "# zz = np.linspace(-15, 15, 30)\n",
        "# ax.scatter3D(X[:, 0], X[:, 1], w1*X[:, 0] + w2*X[:, 1] + b, c=y, s=30, cmap=plt.cm.Paired)\n"
      ]
    },
    {
      "cell_type": "code",
      "execution_count": 69,
      "metadata": {
        "colab": {
          "base_uri": "https://localhost:8080/",
          "height": 265
        },
        "id": "r-1tpmJHoHPd",
        "outputId": "3f75a6a0-0edc-44a3-ea54-b7765f66c61a"
      },
      "outputs": [],
      "source": [
        "# from numpy import array, exp\n",
        "\n",
        "# def sigmoid(x):\n",
        "#   return 1 / (1 + exp(-x))\n",
        "\n",
        "# ax = plt.axes(projection='3d')\n",
        "# ax.scatter3D(X[:, 0], X[:, 1], \n",
        "#              sigmoid(w1*X[:, 0] + w2*X[:, 1] + b), c=y, s=30, cmap=plt.cm.Paired)"
      ]
    },
    {
      "cell_type": "code",
      "execution_count": 70,
      "metadata": {
        "colab": {
          "base_uri": "https://localhost:8080/",
          "height": 352
        },
        "id": "kpOVr9p5IHro",
        "outputId": "26429144-f27d-416d-bad7-2360af7633e7"
      },
      "outputs": [],
      "source": [
        "# output = sigmoid(w1*X[:, 0] + w2*X[:, 1] + b)\n",
        "# plt.hist(output, bins='auto')\n",
        "\n"
      ]
    },
    {
      "cell_type": "code",
      "execution_count": 71,
      "metadata": {
        "colab": {
          "base_uri": "https://localhost:8080/"
        },
        "id": "iGKi8KvBTwGv",
        "outputId": "eae0a947-34d2-4afd-d0f1-d5fec4b37fab"
      },
      "outputs": [],
      "source": [
        "# # Lets take now a single datapoint of the datase of the class 1\n",
        "# print(X[1,:])\n",
        "# print(y[1])"
      ]
    },
    {
      "cell_type": "code",
      "execution_count": 72,
      "metadata": {
        "colab": {
          "base_uri": "https://localhost:8080/"
        },
        "id": "o8AWmE0gUPd5",
        "outputId": "ce07d90b-c466-44b1-e9bf-2d140ec2d5e1"
      },
      "outputs": [],
      "source": [
        "# # if we plug this value into our model (without the sigmoid) we obtain the following\n",
        "# y_ = w1*X[1,0] + w2*X[1,1] + b\n",
        "# print(y_)"
      ]
    },
    {
      "cell_type": "code",
      "execution_count": 73,
      "metadata": {
        "colab": {
          "base_uri": "https://localhost:8080/"
        },
        "id": "faNyAcWvU9wJ",
        "outputId": "728adf07-44f4-46a9-f0df-cdf9e1321bf3"
      },
      "outputs": [],
      "source": [
        "# so if we apply the sigmoid, which is finally the decisor, we have almost a 1. \n",
        "# we interpret this as there is a 99.46 probability of this datapoint to belong \n",
        "# to the class 1\n",
        "\n",
        "#sigmoid(y_)"
      ]
    },
    {
      "cell_type": "markdown",
      "metadata": {
        "id": "DiqdHK6agSFn"
      },
      "source": [
        "#Plotting the boundary using mlxtend"
      ]
    },
    {
      "cell_type": "code",
      "execution_count": 74,
      "metadata": {
        "colab": {
          "base_uri": "https://localhost:8080/"
        },
        "id": "ICeLG5iRgM-x",
        "outputId": "76efe9bb-9a46-4046-af2b-68481b16d45a"
      },
      "outputs": [],
      "source": [
        "# # Test the model after training\n",
        "# test_results = binary_logistic_regressor.evaluate(X, y, verbose=1)\n",
        "# print(f'Test results - Loss: {test_results[0]} - Accuracy: {test_results[1]*100}%')"
      ]
    },
    {
      "cell_type": "code",
      "execution_count": 75,
      "metadata": {
        "colab": {
          "base_uri": "https://localhost:8080/",
          "height": 337
        },
        "id": "ZuvI8UDigbMe",
        "outputId": "cf65d3ba-a0dc-43ba-bdde-8ae92c22ccdd"
      },
      "outputs": [],
      "source": [
        "# plot_decision_regions(X, y, clf=binary_logistic_regressor, legend=2)\n",
        "# plt.show()"
      ]
    },
    {
      "cell_type": "markdown",
      "metadata": {
        "id": "rQhmvAj0r4_I"
      },
      "source": []
    }
  ],
  "metadata": {
    "accelerator": "GPU",
    "colab": {
      "provenance": [],
      "toc_visible": true
    },
    "gpuClass": "standard",
    "kernelspec": {
      "display_name": "Python 3",
      "name": "python3"
    },
    "language_info": {
      "codemirror_mode": {
        "name": "ipython",
        "version": 3
      },
      "file_extension": ".py",
      "mimetype": "text/x-python",
      "name": "python",
      "nbconvert_exporter": "python",
      "pygments_lexer": "ipython3",
      "version": "3.11.4"
    }
  },
  "nbformat": 4,
  "nbformat_minor": 0
}
